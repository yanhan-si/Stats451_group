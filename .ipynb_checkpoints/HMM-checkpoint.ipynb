{
 "cells": [
  {
   "cell_type": "code",
   "execution_count": 1,
   "metadata": {
    "colab": {},
    "colab_type": "code",
    "id": "9GA7CadJzk2j"
   },
   "outputs": [],
   "source": [
    "from datetime import datetime\n",
    "import numpy as np\n",
    "import pandas as pd\n",
    "from matplotlib import cm, pyplot as plt\n",
    "from matplotlib.dates import DayLocator\n",
    "from hmmlearn.hmm import GaussianHMM\n",
    "import math"
   ]
  },
  {
   "cell_type": "code",
   "execution_count": 3,
   "metadata": {},
   "outputs": [],
   "source": [
    "# load the data\n",
    "n = 7 # days for prediction\n",
    "bitcoin = pd.read_csv('./data/bitcoin.csv')\n",
    "bitcoin_train = bitcoin.iloc[0 : len(bitcoin)-n]\n",
    "bitcoin_test = bitcoin.iloc[len(bitcoin)-n: len(bitcoin)]\n",
    "\n",
    "# bitcoin_train = pd.read_csv('bitcoin_train.csv')\n",
    "# bitcoin_test = pd.read_csv('bitcoin_test.csv')\n",
    "xdate_train = np.array([datetime.strptime(d,'%Y-%m-%d').date() for d in bitcoin_train.Date])\n",
    "xdate_test = np.array([datetime.strptime(d,'%Y-%m-%d').date() for d in bitcoin_test.Date])"
   ]
  },
  {
   "cell_type": "code",
   "execution_count": 4,
   "metadata": {
    "colab": {},
    "colab_type": "code",
    "id": "1noks9-pPRhh"
   },
   "outputs": [],
   "source": [
    "# train and test set\n",
    "\n",
    "def extract_feature(dataset):\n",
    "    return np.column_stack([dataset['log_return']])\n",
    "\n",
    "X_train = np.column_stack([bitcoin_train['log_return']])\n",
    "X_test = np.column_stack([bitcoin_test['log_return']])\n",
    "# X= np.column_stack([ret, volume])"
   ]
  },
  {
   "cell_type": "markdown",
   "metadata": {},
   "source": [
    "## Fit the HMM model\n",
    "### feature: log_return value"
   ]
  },
  {
   "cell_type": "code",
   "execution_count": 5,
   "metadata": {
    "colab": {},
    "colab_type": "code",
    "id": "rjFGC4UjPqlx"
   },
   "outputs": [
    {
     "name": "stderr",
     "output_type": "stream",
     "text": [
      "         1         539.0367             +nan\n",
      "         2         637.5591         +98.5224\n",
      "         3         646.9053          +9.3462\n",
      "         4         653.5476          +6.6423\n",
      "         5         658.3407          +4.7931\n",
      "         6         661.7975          +3.4569\n",
      "         7         664.3036          +2.5061\n",
      "         8         666.1587          +1.8551\n",
      "         9         667.5820          +1.4233\n",
      "        10         668.7219          +1.1399\n",
      "        11         669.6746          +0.9527\n",
      "        12         670.5011          +0.8265\n",
      "        13         671.2401          +0.7390\n",
      "        14         671.9171          +0.6770\n",
      "        15         672.5494          +0.6323\n",
      "        16         673.1496          +0.6002\n",
      "        17         673.7266          +0.5770\n",
      "        18         674.2860          +0.5594\n",
      "        19         674.8299          +0.5439\n",
      "        20         675.3563          +0.5264\n",
      "        21         675.8596          +0.5033\n",
      "        22         676.3309          +0.4713\n",
      "        23         676.7600          +0.4291\n",
      "        24         677.1374          +0.3774\n",
      "        25         677.4562          +0.3188\n",
      "        26         677.7138          +0.2576\n",
      "        27         677.9122          +0.1983\n",
      "        28         678.0573          +0.1451\n",
      "        29         678.1580          +0.1007\n",
      "        30         678.2241          +0.0661\n",
      "        31         678.2651          +0.0410\n",
      "        32         678.2892          +0.0241\n",
      "        33         678.3028          +0.0135\n",
      "        34         678.3103          +0.0076\n"
     ]
    },
    {
     "data": {
      "text/plain": [
       "GaussianHMM(n_components=3, n_iter=50, verbose=True)"
      ]
     },
     "execution_count": 5,
     "metadata": {},
     "output_type": "execute_result"
    }
   ],
   "source": [
    "# initial a GaussianHMM\n",
    "\n",
    "## hidden_state_number to choose\n",
    "# hidden_state = [1,2,3,4,5,6]\n",
    "\n",
    "## assume the we have 3 hidden state: up stable down\n",
    "hidden_state = 3 \n",
    "\n",
    "model = GaussianHMM(n_components=hidden_state, n_iter=50,  verbose=True)\n",
    "model.fit(X_train)"
   ]
  },
  {
   "cell_type": "code",
   "execution_count": 6,
   "metadata": {
    "colab": {},
    "colab_type": "code",
    "id": "X9ZCw1_ESHSn"
   },
   "outputs": [
    {
     "name": "stdout",
     "output_type": "stream",
     "text": [
      "Model means under 3 hidden states: \n",
      "[[ 0.01202599]\n",
      " [-0.01631887]\n",
      " [ 0.02062941]]\n"
     ]
    }
   ],
   "source": [
    "# mean matrix of the hidden states\n",
    "# Baum-Welch \n",
    "print(\"Model means under 3 hidden states: \")\n",
    "print(model.means_)\n",
    "\n",
    "# conclusion:\n",
    "## 3 rows stand for 3 hidden states\n",
    "## mean of the return value of each state (up stable dowm)"
   ]
  },
  {
   "cell_type": "code",
   "execution_count": 7,
   "metadata": {
    "colab": {},
    "colab_type": "code",
    "id": "9_uqVY0XXO5y",
    "scrolled": true
   },
   "outputs": [
    {
     "name": "stdout",
     "output_type": "stream",
     "text": [
      "Covariance means: \n",
      "[[[0.00086442]]\n",
      "\n",
      " [[0.00413138]]\n",
      "\n",
      " [[0.00759529]]]\n"
     ]
    }
   ],
   "source": [
    "# Covariance matrix\n",
    "print(\"Covariance means: \")\n",
    "print(model.covars_)"
   ]
  },
  {
   "cell_type": "code",
   "execution_count": 8,
   "metadata": {
    "colab": {},
    "colab_type": "code",
    "id": "_ugCehmDaCG8",
    "scrolled": true
   },
   "outputs": [
    {
     "name": "stdout",
     "output_type": "stream",
     "text": [
      "Transition matrix: \n",
      "[[0.93817621 0.01499298 0.04683081]\n",
      " [0.04093001 0.69873591 0.26033409]\n",
      " [0.18638228 0.59060661 0.22301111]]\n"
     ]
    }
   ],
   "source": [
    "# Transition matrix of 3 states\n",
    "print(\"Transition matrix: \")\n",
    "print(model.transmat_)\n",
    "\n",
    "### 1 2 3\n",
    "# 1\n",
    "# 2\n",
    "# 3"
   ]
  },
  {
   "cell_type": "code",
   "execution_count": 9,
   "metadata": {
    "colab": {},
    "colab_type": "code",
    "id": "yYEt-_DUS7f8"
   },
   "outputs": [
    {
     "name": "stdout",
     "output_type": "stream",
     "text": [
      "Means and vars of each hidden state\n"
     ]
    },
    {
     "data": {
      "text/html": [
       "<div>\n",
       "<style scoped>\n",
       "    .dataframe tbody tr th:only-of-type {\n",
       "        vertical-align: middle;\n",
       "    }\n",
       "\n",
       "    .dataframe tbody tr th {\n",
       "        vertical-align: top;\n",
       "    }\n",
       "\n",
       "    .dataframe thead th {\n",
       "        text-align: right;\n",
       "    }\n",
       "</style>\n",
       "<table border=\"1\" class=\"dataframe\">\n",
       "  <thead>\n",
       "    <tr style=\"text-align: right;\">\n",
       "      <th></th>\n",
       "      <th>State</th>\n",
       "      <th>Means</th>\n",
       "      <th>Variance</th>\n",
       "    </tr>\n",
       "  </thead>\n",
       "  <tbody>\n",
       "    <tr>\n",
       "      <th>0</th>\n",
       "      <td>0</td>\n",
       "      <td>[0.012025994037939084]</td>\n",
       "      <td>[0.0008644200342501316]</td>\n",
       "    </tr>\n",
       "    <tr>\n",
       "      <th>1</th>\n",
       "      <td>1</td>\n",
       "      <td>[-0.016318870600714068]</td>\n",
       "      <td>[0.004131381987241097]</td>\n",
       "    </tr>\n",
       "    <tr>\n",
       "      <th>2</th>\n",
       "      <td>2</td>\n",
       "      <td>[0.020629412297403577]</td>\n",
       "      <td>[0.007595293401622015]</td>\n",
       "    </tr>\n",
       "  </tbody>\n",
       "</table>\n",
       "</div>"
      ],
      "text/plain": [
       "  State                    Means                 Variance\n",
       "0     0   [0.012025994037939084]  [0.0008644200342501316]\n",
       "1     1  [-0.016318870600714068]   [0.004131381987241097]\n",
       "2     2   [0.020629412297403577]   [0.007595293401622015]"
      ]
     },
     "execution_count": 9,
     "metadata": {},
     "output_type": "execute_result"
    }
   ],
   "source": [
    "print(\"Means and vars of each hidden state\")\n",
    "params = pd.DataFrame(columns = ('State', 'Means', 'Variance'))\n",
    "for i in range(model.n_components):\n",
    "    params.loc[i] = [format(i), model.means_[i], np.diag(model.covars_[i])]\n",
    "params"
   ]
  },
  {
   "cell_type": "markdown",
   "metadata": {},
   "source": [
    "### can predict the most likely hidden states for an observed return seq"
   ]
  },
  {
   "cell_type": "code",
   "execution_count": 10,
   "metadata": {},
   "outputs": [
    {
     "data": {
      "text/plain": [
       "array([0, 0, 0, 0, 0, 0, 0])"
      ]
     },
     "execution_count": 10,
     "metadata": {},
     "output_type": "execute_result"
    }
   ],
   "source": [
    "# The future state?\n",
    "model.predict(X_test)"
   ]
  },
  {
   "cell_type": "markdown",
   "metadata": {},
   "source": [
    "## Prediction\n",
    "\n",
    "### 1  discretization for the possible outcome"
   ]
  },
  {
   "cell_type": "code",
   "execution_count": 11,
   "metadata": {
    "scrolled": true
   },
   "outputs": [
    {
     "name": "stdout",
     "output_type": "stream",
     "text": [
      "0.2251189979873125 -0.20752980870508966\n"
     ]
    },
    {
     "data": {
      "image/png": "[encoded data removed]",
      "text/plain": [
       "<Figure size 432x288 with 1 Axes>"
      ]
     },
     "metadata": {
      "needs_background": "light"
     },
     "output_type": "display_data"
    }
   ],
   "source": [
    "tmp = bitcoin_train['log_return']\n",
    "plt.hist(tmp)\n",
    "print (max(tmp), min(tmp))\n",
    "# print(tmp)"
   ]
  },
  {
   "cell_type": "code",
   "execution_count": 12,
   "metadata": {
    "scrolled": false
   },
   "outputs": [
    {
     "name": "stdout",
     "output_type": "stream",
     "text": [
      "        Min  Max Number of points\n",
      "return -0.3  0.3              600\n"
     ]
    }
   ],
   "source": [
    "# possible outcomes params\n",
    "tmp = pd.DataFrame(columns = ['Min', 'Max', 'Number of points'], index= ['return'])\n",
    "tmp.loc['return'] = [-0.3, 0.3, 600] \n",
    "print(tmp)\n",
    "\n",
    "\n",
    "possible_outcomes = np.linspace(-0.3, 0.3, 600)\n",
    "import itertools\n",
    "_possible_outcomes = np.array(list(itertools.product(possible_outcomes)))\n",
    "# _possible_outcomes"
   ]
  },
  {
   "cell_type": "markdown",
   "metadata": {},
   "source": [
    "### 2 get most possible outcome and predict"
   ]
  },
  {
   "cell_type": "code",
   "execution_count": 13,
   "metadata": {},
   "outputs": [],
   "source": [
    "def get_most_possible_outcome(dataset):\n",
    "    previous = extract_feature(dataset)\n",
    "    outcome_score = []\n",
    "    for possible_outcome in _possible_outcomes:\n",
    "        total_data = np.row_stack((previous, possible_outcome))\n",
    "        outcome_score.append(model.score(total_data))\n",
    "    most_probable_outcome = _possible_outcomes[np.argmax(outcome_score)]\n",
    "    return most_probable_outcome\n",
    "\n",
    "def one_day_predict(dataset):\n",
    "    predict_return = get_most_possible_outcome(dataset)\n",
    "    predict_closing = list(dataset['Close'])[-1] * math.exp(predict_return)\n",
    "    return predict_return, predict_closing"
   ]
  },
  {
   "cell_type": "code",
   "execution_count": 14,
   "metadata": {
    "scrolled": false
   },
   "outputs": [],
   "source": [
    "def trim(bitcoin):\n",
    "    new = pd.DataFrame()\n",
    "    new['Close'] = bitcoin['Close']\n",
    "    new['log_return'] = bitcoin['log_return']\n",
    "    return new\n",
    "\n",
    "cur_set = trim(bitcoin_train)"
   ]
  },
  {
   "cell_type": "code",
   "execution_count": 15,
   "metadata": {},
   "outputs": [
    {
     "ename": "NameError",
     "evalue": "name 'cur_pclosing' is not defined",
     "output_type": "error",
     "traceback": [
      "\u001b[0;31m---------------------------------------------------------------------------\u001b[0m",
      "\u001b[0;31mNameError\u001b[0m                                 Traceback (most recent call last)",
      "\u001b[0;32m<ipython-input-15-be951112f67c>\u001b[0m in \u001b[0;36m<module>\u001b[0;34m\u001b[0m\n\u001b[0;32m----> 1\u001b[0;31m \u001b[0mcur_pclosing\u001b[0m\u001b[0;34m\u001b[0m\u001b[0;34m\u001b[0m\u001b[0m\n\u001b[0m",
      "\u001b[0;31mNameError\u001b[0m: name 'cur_pclosing' is not defined"
     ]
    }
   ],
   "source": [
    "cur_pclosing"
   ]
  },
  {
   "cell_type": "code",
   "execution_count": null,
   "metadata": {},
   "outputs": [],
   "source": [
    "n_days = len(bitcoin_test)\n",
    "pclose = []\n",
    "pret = []\n",
    "\n",
    "for i in range(n_days):\n",
    "    cur_pret, cur_pclosing = one_day_predict(cur_set)\n",
    "    cur_set.loc[cur_set.shape[0]] = [cur_pclosing, cur_pret]\n",
    "    pclose.append(cur_pclosing)\n",
    "    pret.append(cur_pret)\n",
    "#     pclose.append(list(cur_pclosing)[0])\n",
    "#     pret.append(list(cur_pret)[0])"
   ]
  },
  {
   "cell_type": "code",
   "execution_count": 18,
   "metadata": {},
   "outputs": [
    {
     "data": {
      "text/plain": [
       "([array([0.00851419]),\n",
       "  array([0.01051753]),\n",
       "  array([0.0115192]),\n",
       "  array([0.0115192]),\n",
       "  array([0.0115192]),\n",
       "  array([0.0115192]),\n",
       "  array([0.0115192])],\n",
       " [8711.006797386926,\n",
       "  8803.108558343409,\n",
       "  8905.099614530633,\n",
       "  9008.272318708818,\n",
       "  9112.6403612154,\n",
       "  9218.217591001328,\n",
       "  9325.018017468727])"
      ]
     },
     "execution_count": 18,
     "metadata": {},
     "output_type": "execute_result"
    }
   ],
   "source": [
    "pret, pclose"
   ]
  },
  {
   "cell_type": "code",
   "execution_count": 19,
   "metadata": {},
   "outputs": [
    {
     "name": "stderr",
     "output_type": "stream",
     "text": [
      "C:\\Users\\W\\Anaconda3\\lib\\site-packages\\pandas\\plotting\\_converter.py:129: FutureWarning: Using an implicitly registered datetime converter for a matplotlib plotting method. The converter was registered by pandas on import. Future versions of pandas will require you to explicitly register matplotlib converters.\n",
      "\n",
      "To register the converters:\n",
      "\t>>> from pandas.plotting import register_matplotlib_converters\n",
      "\t>>> register_matplotlib_converters()\n",
      "  warnings.warn(msg, FutureWarning)\n"
     ]
    },
    {
     "data": {
      "image/png": "[encoded data removed]",
      "text/plain": [
       "<Figure size 432x288 with 1 Axes>"
      ]
     },
     "metadata": {
      "needs_background": "light"
     },
     "output_type": "display_data"
    }
   ],
   "source": [
    "plt.plot(xdate_test, bitcoin_test['Close'], 'bo-', label=\"actual\")\n",
    "plt.plot(xdate_test, pclose, 'r+-', label=\"predicted\")\n",
    "\n",
    "plt.gcf().autofmt_xdate()\n",
    "plt.xlabel(\"Date\")\n",
    "plt.ylabel(\"Bitcoin Price\")\n",
    "plt.title(\"Testset Closing Price\")\n",
    "plt.legend(loc='best')\n",
    "plt.savefig(\"hmm_predict_close_7.png\")\n",
    "\n",
    "plt.legend()\n",
    "plt.show()\n"
   ]
  },
  {
   "cell_type": "code",
   "execution_count": 20,
   "metadata": {
    "scrolled": true
   },
   "outputs": [
    {
     "data": {
      "image/png": "[encoded data removed]",
      "text/plain": [
       "<Figure size 432x288 with 1 Axes>"
      ]
     },
     "metadata": {
      "needs_background": "light"
     },
     "output_type": "display_data"
    }
   ],
   "source": [
    "plt.plot(xdate_test, bitcoin_test['log_return'], 'bo-', label=\"actual\")\n",
    "plt.plot(xdate_test, pret, 'r+-', label=\"predicted\")\n",
    "\n",
    "plt.gcf().autofmt_xdate()\n",
    "plt.xlabel(\"Date\")\n",
    "plt.ylabel(\"rate\")\n",
    "plt.title(\"Testset log return rate\")\n",
    "plt.legend(loc='best')\n",
    "plt.savefig(\"hmm_predict_ret_7.png\")\n",
    "\n",
    "plt.show()"
   ]
  },
  {
   "cell_type": "markdown",
   "metadata": {},
   "source": [
    "## MSE"
   ]
  },
  {
   "cell_type": "code",
   "execution_count": 21,
   "metadata": {},
   "outputs": [
    {
     "data": {
      "text/plain": [
       "array([0.00356328])"
      ]
     },
     "execution_count": 21,
     "metadata": {},
     "output_type": "execute_result"
    }
   ],
   "source": [
    "def mse(a,b):\n",
    "    ans = 0\n",
    "    for i in range(len(a)):\n",
    "        ans += (a[i]-b[i])**2\n",
    "    return ans/len(a)\n",
    "\n",
    "mse(pret, list(bitcoin_test['ret']))"
   ]
  },
  {
   "cell_type": "code",
   "execution_count": 22,
   "metadata": {},
   "outputs": [
    {
     "data": {
      "text/plain": [
       "2726776.322242067"
      ]
     },
     "execution_count": 22,
     "metadata": {},
     "output_type": "execute_result"
    }
   ],
   "source": [
    "mse(pclose, list(bitcoin_test['Close']))"
   ]
  },
  {
   "cell_type": "code",
   "execution_count": null,
   "metadata": {},
   "outputs": [],
   "source": []
  }
 ],
 "metadata": {
  "accelerator": "TPU",
  "colab": {
   "authorship_tag": "ABX9TyOFI4qvndIcahbVxcrWxx8W",
   "collapsed_sections": [],
   "mount_file_id": "1y5bGsNKh4vIvzQLZJ65uowG5KQDAdJ25",
   "name": "HMM_stock_predict.ipynb",
   "private_outputs": true,
   "provenance": []
  },
  "kernelspec": {
   "display_name": "Python 3",
   "language": "python",
   "name": "python3"
  },
  "language_info": {
   "codemirror_mode": {
    "name": "ipython",
    "version": 3
   },
   "file_extension": ".py",
   "mimetype": "text/x-python",
   "name": "python",
   "nbconvert_exporter": "python",
   "pygments_lexer": "ipython3",
   "version": "3.8.3"
  }
 },
 "nbformat": 4,
 "nbformat_minor": 1
}
